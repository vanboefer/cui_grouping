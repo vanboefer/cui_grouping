{
 "metadata": {
  "language_info": {
   "codemirror_mode": {
    "name": "ipython",
    "version": 3
   },
   "file_extension": ".py",
   "mimetype": "text/x-python",
   "name": "python",
   "nbconvert_exporter": "python",
   "pygments_lexer": "ipython3",
   "version": "3.8.1-final"
  },
  "orig_nbformat": 2,
  "kernelspec": {
   "name": "python3",
   "display_name": "Python 3",
   "language": "python"
  }
 },
 "nbformat": 4,
 "nbformat_minor": 2,
 "cells": [
  {
   "cell_type": "code",
   "execution_count": 1,
   "metadata": {},
   "outputs": [],
   "source": [
    "import pandas as pd\n",
    "from groupings import Groupings"
   ]
  },
  {
   "source": [
    "### Load the pickled Groupings object"
   ],
   "cell_type": "markdown",
   "metadata": {}
  },
  {
   "cell_type": "code",
   "execution_count": 2,
   "metadata": {},
   "outputs": [],
   "source": [
    "g = Groupings.read_pickle('sample_data', 'cosine', 0.4)"
   ]
  },
  {
   "source": [
    "### There are 10 supergroups created from the sample data"
   ],
   "cell_type": "markdown",
   "metadata": {}
  },
  {
   "cell_type": "code",
   "execution_count": 3,
   "metadata": {},
   "outputs": [
    {
     "output_type": "execute_result",
     "data": {
      "text/plain": [
       "34    {(sample_data, NCT00398931), (sample_data, NCT...\n",
       "30    {(sample_data, 29066877), (sample_data, 189791...\n",
       "27    {(sample_data, NCT00537680), (sample_data, 224...\n",
       "26    {(sample_data, NCT00537680), (sample_data, 127...\n",
       "2     {(ema, 1094), (sample_data, 23907995), (sample...\n",
       "24    {(sample_data, NCT01674621), (sample_data, NCT...\n",
       "37    {(sample_data, NCT00537680), (sample_data, 224...\n",
       "1     {(sample_data, NCT01674621), (sample_data, 253...\n",
       "8     {(sample_data, 17988688), (sample_data, 114063...\n",
       "0                     {(ema, 48), (ema, 32), (ema, 44)}\n",
       "Name: supergroups, dtype: object"
      ]
     },
     "metadata": {},
     "execution_count": 3
    }
   ],
   "source": [
    "g.supergroups"
   ]
  },
  {
   "source": [
    "### The sizes of the supergroups"
   ],
   "cell_type": "markdown",
   "metadata": {}
  },
  {
   "cell_type": "code",
   "execution_count": 4,
   "metadata": {},
   "outputs": [
    {
     "output_type": "execute_result",
     "data": {
      "text/plain": [
       "34    48\n",
       "30    32\n",
       "27    11\n",
       "26    11\n",
       "2     10\n",
       "24     9\n",
       "37     8\n",
       "1      8\n",
       "8      3\n",
       "0      3\n",
       "Name: supergroups, dtype: int64"
      ]
     },
     "metadata": {},
     "execution_count": 4
    }
   ],
   "source": [
    "g.supergroup_sizes"
   ]
  },
  {
   "source": [
    "### Let's explore one of the supergroups (idx 24)\n",
    "\n",
    "#### Here are all the records that belong to it:"
   ],
   "cell_type": "markdown",
   "metadata": {}
  },
  {
   "cell_type": "code",
   "execution_count": 5,
   "metadata": {},
   "outputs": [
    {
     "output_type": "execute_result",
     "data": {
      "text/plain": [
       "{('ema', 1039),\n",
       " ('sample_data', '27612281'),\n",
       " ('sample_data', '27826127'),\n",
       " ('sample_data', '28160873'),\n",
       " ('sample_data', 'NCT01343004'),\n",
       " ('sample_data', 'NCT01657162'),\n",
       " ('sample_data', 'NCT01674621'),\n",
       " ('sample_data', 'NCT03512262'),\n",
       " ('sample_data', 'NCT03710889')}"
      ]
     },
     "metadata": {},
     "execution_count": 5
    }
   ],
   "source": [
    "g.get_records_per_group(24)"
   ]
  },
  {
   "source": [
    "#### Here are the CUI's of these records:"
   ],
   "cell_type": "markdown",
   "metadata": {}
  },
  {
   "cell_type": "code",
   "execution_count": 6,
   "metadata": {},
   "outputs": [],
   "source": [
    "ema = pd.read_pickle('../data/ema_cuis.pkl')\n",
    "sample_cuis = pd.read_pickle('../data/cuis/batch_0.pkl')"
   ]
  },
  {
   "cell_type": "code",
   "execution_count": 7,
   "metadata": {},
   "outputs": [
    {
     "output_type": "execute_result",
     "data": {
      "text/plain": [
       "                                              ent_text_disease  \\\n",
       "NCT01674621                                     [osteoporosis]   \n",
       "NCT01657162                                     [osteoporosis]   \n",
       "NCT03512262                                     [osteoporosis]   \n",
       "27826127     [osteoporosis, fractures, bone marrow abnormal...   \n",
       "27612281     [fractures, osteoporosis, vertebral fractures,...   \n",
       "28160873     [osteoporosis, vertebral fractures, nonvertebr...   \n",
       "NCT03710889                                     [osteoporosis]   \n",
       "NCT01343004                [fracture, osteoporosis, fractures]   \n",
       "\n",
       "                                    ent_text_drug  \\\n",
       "NCT01674621                [ba058, abaloparatide]   \n",
       "NCT01657162  [ba058, abaloparatide, ba058-05-003]   \n",
       "NCT03512262                       [abaloparatide]   \n",
       "27826127            [abaloparatide, teriparatide]   \n",
       "27612281              [amino acid, abaloparatide]   \n",
       "28160873        [alendronate, abaloparatide, aln]   \n",
       "NCT03710889                       [abaloparatide]   \n",
       "NCT01343004                [ba058, abaloparatide]   \n",
       "\n",
       "                                         disease_cuis             drug_cuis  \n",
       "NCT01674621                                {C0029456}            {C4042342}  \n",
       "NCT01657162                                {C0029456}            {C4042342}  \n",
       "NCT03512262                                {C0029456}            {C4042342}  \n",
       "27826127     {C0029456, C0016059, C4540463, C0016658}  {C0070093, C4042342}  \n",
       "27612281               {C0029456, C0080179, C0016658}  {C0002520, C4042342}  \n",
       "28160873                         {C0029456, C0016658}  {C0102118, C4042342}  \n",
       "NCT03710889                                {C0029456}            {C4042342}  \n",
       "NCT01343004                      {C0029456, C0016658}            {C4042342}  "
      ],
      "text/html": "<div>\n<style scoped>\n    .dataframe tbody tr th:only-of-type {\n        vertical-align: middle;\n    }\n\n    .dataframe tbody tr th {\n        vertical-align: top;\n    }\n\n    .dataframe thead th {\n        text-align: right;\n    }\n</style>\n<table border=\"1\" class=\"dataframe\">\n  <thead>\n    <tr style=\"text-align: right;\">\n      <th></th>\n      <th>ent_text_disease</th>\n      <th>ent_text_drug</th>\n      <th>disease_cuis</th>\n      <th>drug_cuis</th>\n    </tr>\n  </thead>\n  <tbody>\n    <tr>\n      <th>NCT01674621</th>\n      <td>[osteoporosis]</td>\n      <td>[ba058, abaloparatide]</td>\n      <td>{C0029456}</td>\n      <td>{C4042342}</td>\n    </tr>\n    <tr>\n      <th>NCT01657162</th>\n      <td>[osteoporosis]</td>\n      <td>[ba058, abaloparatide, ba058-05-003]</td>\n      <td>{C0029456}</td>\n      <td>{C4042342}</td>\n    </tr>\n    <tr>\n      <th>NCT03512262</th>\n      <td>[osteoporosis]</td>\n      <td>[abaloparatide]</td>\n      <td>{C0029456}</td>\n      <td>{C4042342}</td>\n    </tr>\n    <tr>\n      <th>27826127</th>\n      <td>[osteoporosis, fractures, bone marrow abnormal...</td>\n      <td>[abaloparatide, teriparatide]</td>\n      <td>{C0029456, C0016059, C4540463, C0016658}</td>\n      <td>{C0070093, C4042342}</td>\n    </tr>\n    <tr>\n      <th>27612281</th>\n      <td>[fractures, osteoporosis, vertebral fractures,...</td>\n      <td>[amino acid, abaloparatide]</td>\n      <td>{C0029456, C0080179, C0016658}</td>\n      <td>{C0002520, C4042342}</td>\n    </tr>\n    <tr>\n      <th>28160873</th>\n      <td>[osteoporosis, vertebral fractures, nonvertebr...</td>\n      <td>[alendronate, abaloparatide, aln]</td>\n      <td>{C0029456, C0016658}</td>\n      <td>{C0102118, C4042342}</td>\n    </tr>\n    <tr>\n      <th>NCT03710889</th>\n      <td>[osteoporosis]</td>\n      <td>[abaloparatide]</td>\n      <td>{C0029456}</td>\n      <td>{C4042342}</td>\n    </tr>\n    <tr>\n      <th>NCT01343004</th>\n      <td>[fracture, osteoporosis, fractures]</td>\n      <td>[ba058, abaloparatide]</td>\n      <td>{C0029456, C0016658}</td>\n      <td>{C4042342}</td>\n    </tr>\n  </tbody>\n</table>\n</div>"
     },
     "metadata": {},
     "execution_count": 7
    }
   ],
   "source": [
    "idx = list()\n",
    "for tup in g.get_records_per_group(24):\n",
    "    if tup[0] == 'sample_data':\n",
    "        idx.append(tup[1])\n",
    "sample_cuis.loc[idx]"
   ]
  },
  {
   "cell_type": "code",
   "execution_count": 8,
   "metadata": {},
   "outputs": [
    {
     "output_type": "execute_result",
     "data": {
      "text/plain": [
       "           active_substance  disease_name authoriz_status disease_cuis  \\\n",
       "Unnamed: 0                                                               \n",
       "1039          abaloparatide  Osteoporosis         Refused   {C0029456}   \n",
       "\n",
       "             drug_cuis  \n",
       "Unnamed: 0              \n",
       "1039        {C4042342}  "
      ],
      "text/html": "<div>\n<style scoped>\n    .dataframe tbody tr th:only-of-type {\n        vertical-align: middle;\n    }\n\n    .dataframe tbody tr th {\n        vertical-align: top;\n    }\n\n    .dataframe thead th {\n        text-align: right;\n    }\n</style>\n<table border=\"1\" class=\"dataframe\">\n  <thead>\n    <tr style=\"text-align: right;\">\n      <th></th>\n      <th>active_substance</th>\n      <th>disease_name</th>\n      <th>authoriz_status</th>\n      <th>disease_cuis</th>\n      <th>drug_cuis</th>\n    </tr>\n    <tr>\n      <th>Unnamed: 0</th>\n      <th></th>\n      <th></th>\n      <th></th>\n      <th></th>\n      <th></th>\n    </tr>\n  </thead>\n  <tbody>\n    <tr>\n      <th>1039</th>\n      <td>abaloparatide</td>\n      <td>Osteoporosis</td>\n      <td>Refused</td>\n      <td>{C0029456}</td>\n      <td>{C4042342}</td>\n    </tr>\n  </tbody>\n</table>\n</div>"
     },
     "metadata": {},
     "execution_count": 8
    }
   ],
   "source": [
    "ema.loc[[1039]]"
   ]
  },
  {
   "source": [
    "#### Looks correct!\n",
    "\n",
    "All the records are about osteoporosis (C4042342) and the active substance abaloparatide (C0029456).\n",
    "\n",
    "- Here is the [EMA authorization](https://www.ema.europa.eu/en/medicines/human/EPAR/eladynos)\n",
    "\n",
    "- Here is one of the grouped CTgov records [NCT01674621](https://clinicaltrials.gov/ct2/show/NCT01674621?term=NCT01674621)\n",
    "\n",
    "- Here is one of the grouped PubMed records [27826127](https://pubmed.ncbi.nlm.nih.gov/27826127/)"
   ],
   "cell_type": "markdown",
   "metadata": {}
  },
  {
   "cell_type": "code",
   "execution_count": null,
   "metadata": {},
   "outputs": [],
   "source": []
  }
 ]
}